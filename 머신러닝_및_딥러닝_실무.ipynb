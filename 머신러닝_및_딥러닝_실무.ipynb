{
  "nbformat": 4,
  "nbformat_minor": 0,
  "metadata": {
    "colab": {
      "provenance": [],
      "authorship_tag": "ABX9TyPVZMnWcQ+ksC+Ogu3JUMKK",
      "include_colab_link": true
    },
    "kernelspec": {
      "name": "python3",
      "display_name": "Python 3"
    },
    "language_info": {
      "name": "python"
    }
  },
  "cells": [
    {
      "cell_type": "markdown",
      "metadata": {
        "id": "view-in-github",
        "colab_type": "text"
      },
      "source": [
        "<a href=\"https://colab.research.google.com/github/ehgur062300/Machine-Learning-Deep-Learning/blob/main/%EB%A8%B8%EC%8B%A0%EB%9F%AC%EB%8B%9D_%EB%B0%8F_%EB%94%A5%EB%9F%AC%EB%8B%9D_%EC%8B%A4%EB%AC%B4.ipynb\" target=\"_parent\"><img src=\"https://colab.research.google.com/assets/colab-badge.svg\" alt=\"Open In Colab\"/></a>"
      ]
    },
    {
      "cell_type": "markdown",
      "source": [
        "# **2주차**"
      ],
      "metadata": {
        "id": "reJ9cbJeoDUJ"
      }
    },
    {
      "cell_type": "markdown",
      "source": [
        "## 1. 파이토치 사용 및 텐서 기초"
      ],
      "metadata": {
        "id": "sgmGNpzzp5T8"
      }
    },
    {
      "cell_type": "code",
      "execution_count": 23,
      "metadata": {
        "id": "LrhagiPMkOxZ"
      },
      "outputs": [],
      "source": [
        "import math\n",
        "import torch\n",
        "import matplotlib.pyplot as plt\n",
        "import numpy as np\n",
        "import pandas as pd"
      ]
    },
    {
      "cell_type": "code",
      "source": [
        "A = torch.Tensor([0,1,2,3]) #Tensor -> 실수 / tensor -> 정수"
      ],
      "metadata": {
        "id": "b4Fqm_X2lNWd"
      },
      "execution_count": 4,
      "outputs": []
    },
    {
      "cell_type": "code",
      "source": [
        "A"
      ],
      "metadata": {
        "colab": {
          "base_uri": "https://localhost:8080/"
        },
        "id": "nGl_B4yLllNc",
        "outputId": "2a37136e-287c-4d95-e3aa-502f0983b413"
      },
      "execution_count": 5,
      "outputs": [
        {
          "output_type": "execute_result",
          "data": {
            "text/plain": [
              "tensor([0., 1., 2., 3.])"
            ]
          },
          "metadata": {},
          "execution_count": 5
        }
      ]
    },
    {
      "cell_type": "code",
      "source": [
        "A.type()"
      ],
      "metadata": {
        "colab": {
          "base_uri": "https://localhost:8080/",
          "height": 36
        },
        "id": "eFyahbs7lmSm",
        "outputId": "d4e1ca0d-79fa-47f2-8bb6-8cc0e3d9eecc"
      },
      "execution_count": 7,
      "outputs": [
        {
          "output_type": "execute_result",
          "data": {
            "text/plain": [
              "'torch.FloatTensor'"
            ],
            "application/vnd.google.colaboratory.intrinsic+json": {
              "type": "string"
            }
          },
          "metadata": {},
          "execution_count": 7
        }
      ]
    },
    {
      "cell_type": "code",
      "source": [
        "# shape -> 텐서 모양과 크기\n",
        "A.shape"
      ],
      "metadata": {
        "colab": {
          "base_uri": "https://localhost:8080/"
        },
        "id": "_UYBmJV7lo91",
        "outputId": "001c8133-08d8-4a41-bb5d-8cd3404878bf"
      },
      "execution_count": 10,
      "outputs": [
        {
          "output_type": "execute_result",
          "data": {
            "text/plain": [
              "torch.Size([4])"
            ]
          },
          "metadata": {},
          "execution_count": 10
        }
      ]
    },
    {
      "cell_type": "code",
      "source": [
        "# dim() -> 텐서 차원\n",
        "A.dim()"
      ],
      "metadata": {
        "colab": {
          "base_uri": "https://localhost:8080/"
        },
        "id": "g6EKKT2jlr2U",
        "outputId": "4adbece1-d512-49ea-d27d-2d0d0bee7ded"
      },
      "execution_count": 9,
      "outputs": [
        {
          "output_type": "execute_result",
          "data": {
            "text/plain": [
              "1"
            ]
          },
          "metadata": {},
          "execution_count": 9
        }
      ]
    },
    {
      "cell_type": "code",
      "source": [
        "B = torch.Tensor([[0.8425, 0.3970],\n",
        "                  [0.5268, 0.7384],\n",
        "                  [0.5639, 0.3080]])"
      ],
      "metadata": {
        "id": "KbYk0A1zltiY"
      },
      "execution_count": 12,
      "outputs": []
    },
    {
      "cell_type": "code",
      "source": [
        "B.shape"
      ],
      "metadata": {
        "colab": {
          "base_uri": "https://localhost:8080/"
        },
        "id": "jaAkLUIymTDQ",
        "outputId": "32b1b00e-21ef-46cf-8cd7-6ac597208679"
      },
      "execution_count": 14,
      "outputs": [
        {
          "output_type": "execute_result",
          "data": {
            "text/plain": [
              "torch.Size([3, 2])"
            ]
          },
          "metadata": {},
          "execution_count": 14
        }
      ]
    },
    {
      "cell_type": "code",
      "source": [
        "B.dim()"
      ],
      "metadata": {
        "colab": {
          "base_uri": "https://localhost:8080/"
        },
        "id": "Ek2vwvComUoG",
        "outputId": "c3f08f2f-1edf-4e83-fafd-0e9cc585f7e1"
      },
      "execution_count": 15,
      "outputs": [
        {
          "output_type": "execute_result",
          "data": {
            "text/plain": [
              "2"
            ]
          },
          "metadata": {},
          "execution_count": 15
        }
      ]
    },
    {
      "cell_type": "markdown",
      "source": [
        "## 2.  신경망 학습 예제"
      ],
      "metadata": {
        "id": "M_uCQWFFmaqh"
      }
    },
    {
      "cell_type": "markdown",
      "source": [
        "### Sin 함수 예측"
      ],
      "metadata": {
        "id": "THN-5XtQp0FE"
      }
    },
    {
      "cell_type": "code",
      "source": [
        "# 0부터 2*pi 사이에서 점을 1000개 추출\n",
        "x = torch.linspace(0, 2*math.pi, 1000)"
      ],
      "metadata": {
        "id": "pDNXjQ6JofDi"
      },
      "execution_count": 42,
      "outputs": []
    },
    {
      "cell_type": "code",
      "source": [
        "# 실제 사인곡선에서 추출한 값으로 실데이터 y 만들기\n",
        "y = torch.sin(x)"
      ],
      "metadata": {
        "id": "Gcj82zDBo3sg"
      },
      "execution_count": 43,
      "outputs": []
    },
    {
      "cell_type": "code",
      "source": [
        "train_x = torch.stack([x**3, x**2, x, torch.ones(1000)], dim=1)\n",
        "train_x"
      ],
      "metadata": {
        "colab": {
          "base_uri": "https://localhost:8080/"
        },
        "id": "Q_j1S518pAO7",
        "outputId": "24f373bd-3501-49d9-cd81-3f6d116b80c0"
      },
      "execution_count": 44,
      "outputs": [
        {
          "output_type": "execute_result",
          "data": {
            "text/plain": [
              "tensor([[0.0000e+00, 0.0000e+00, 0.0000e+00, 1.0000e+00],\n",
              "        [2.4880e-07, 3.9557e-05, 6.2895e-03, 1.0000e+00],\n",
              "        [1.9904e-06, 1.5823e-04, 1.2579e-02, 1.0000e+00],\n",
              "        ...,\n",
              "        [2.4656e+02, 3.9321e+01, 6.2706e+00, 1.0000e+00],\n",
              "        [2.4731e+02, 3.9399e+01, 6.2769e+00, 1.0000e+00],\n",
              "        [2.4805e+02, 3.9478e+01, 6.2832e+00, 1.0000e+00]])"
            ]
          },
          "metadata": {},
          "execution_count": 44
        }
      ]
    },
    {
      "cell_type": "code",
      "source": [
        "train_x.shape"
      ],
      "metadata": {
        "colab": {
          "base_uri": "https://localhost:8080/"
        },
        "id": "VPTQIEdipUEt",
        "outputId": "1454bc5e-aae0-4721-b844-5b5b3f4739b3"
      },
      "execution_count": 45,
      "outputs": [
        {
          "output_type": "execute_result",
          "data": {
            "text/plain": [
              "torch.Size([1000, 4])"
            ]
          },
          "metadata": {},
          "execution_count": 45
        }
      ]
    },
    {
      "cell_type": "markdown",
      "source": [
        "### 모델 정의(신경망 만들기)"
      ],
      "metadata": {
        "id": "RVwJclMbprBD"
      }
    },
    {
      "cell_type": "code",
      "source": [
        "# 초기 weigh와 bias 설정\n",
        "w1 = torch.Tensor([-0.05])\n",
        "w2 = torch.Tensor([-1.74])\n",
        "w3 = torch.Tensor([0.06])\n",
        "b = torch.Tensor([0.65])"
      ],
      "metadata": {
        "id": "MfAeLMSKpwOa"
      },
      "execution_count": 46,
      "outputs": []
    },
    {
      "cell_type": "code",
      "source": [
        "# w1 = torch.randn(())\n",
        "# w2 = torch.randn(())\n",
        "# w3 = torch.randn(())\n",
        "# b = torch.randn(())"
      ],
      "metadata": {
        "id": "-1GDYWNpqJ36"
      },
      "execution_count": 47,
      "outputs": []
    },
    {
      "cell_type": "code",
      "source": [
        "y_pred = w1*train_x[:,0] + w2 * train_x[:,1] + w3 * train_x[:,2] + b * train_x[:,3]\n",
        "y_pred"
      ],
      "metadata": {
        "colab": {
          "base_uri": "https://localhost:8080/"
        },
        "id": "s3MCwg1_qa1A",
        "outputId": "44c44bf4-b3d5-41fa-a3b4-cb338016977c"
      },
      "execution_count": 48,
      "outputs": [
        {
          "output_type": "execute_result",
          "data": {
            "text/plain": [
              "tensor([ 6.5000e-01,  6.5031e-01,  6.5048e-01,  6.5051e-01,  6.5041e-01,\n",
              "         6.5016e-01,  6.4978e-01,  6.4926e-01,  6.4861e-01,  6.4781e-01,\n",
              "         6.4688e-01,  6.4581e-01,  6.4460e-01,  6.4325e-01,  6.4176e-01,\n",
              "         6.4013e-01,  6.3837e-01,  6.3646e-01,  6.3442e-01,  6.3224e-01,\n",
              "         6.2992e-01,  6.2746e-01,  6.2486e-01,  6.2212e-01,  6.1924e-01,\n",
              "         6.1622e-01,  6.1306e-01,  6.0977e-01,  6.0633e-01,  6.0275e-01,\n",
              "         5.9904e-01,  5.9518e-01,  5.9119e-01,  5.8705e-01,  5.8277e-01,\n",
              "         5.7836e-01,  5.7380e-01,  5.6910e-01,  5.6427e-01,  5.5929e-01,\n",
              "         5.5417e-01,  5.4891e-01,  5.4351e-01,  5.3797e-01,  5.3229e-01,\n",
              "         5.2647e-01,  5.2050e-01,  5.1440e-01,  5.0815e-01,  5.0177e-01,\n",
              "         4.9524e-01,  4.8857e-01,  4.8176e-01,  4.7480e-01,  4.6771e-01,\n",
              "         4.6047e-01,  4.5310e-01,  4.4558e-01,  4.3792e-01,  4.3011e-01,\n",
              "         4.2217e-01,  4.1408e-01,  4.0585e-01,  3.9748e-01,  3.8896e-01,\n",
              "         3.8031e-01,  3.7151e-01,  3.6256e-01,  3.5348e-01,  3.4425e-01,\n",
              "         3.3488e-01,  3.2537e-01,  3.1571e-01,  3.0591e-01,  2.9597e-01,\n",
              "         2.8589e-01,  2.7566e-01,  2.6528e-01,  2.5477e-01,  2.4411e-01,\n",
              "         2.3331e-01,  2.2236e-01,  2.1127e-01,  2.0004e-01,  1.8866e-01,\n",
              "         1.7714e-01,  1.6547e-01,  1.5366e-01,  1.4171e-01,  1.2961e-01,\n",
              "         1.1737e-01,  1.0498e-01,  9.2454e-02,  7.9778e-02,  6.6958e-02,\n",
              "         5.3993e-02,  4.0884e-02,  2.7629e-02,  1.4230e-02,  6.8575e-04,\n",
              "        -1.3004e-02, -2.6838e-02, -4.0817e-02, -5.4942e-02, -6.9213e-02,\n",
              "        -8.3628e-02, -9.8189e-02, -1.1290e-01, -1.2775e-01, -1.4275e-01,\n",
              "        -1.5789e-01, -1.7318e-01, -1.8862e-01, -2.0420e-01, -2.1993e-01,\n",
              "        -2.3580e-01, -2.5182e-01, -2.6799e-01, -2.8430e-01, -3.0076e-01,\n",
              "        -3.1736e-01, -3.3412e-01, -3.5102e-01, -3.6806e-01, -3.8526e-01,\n",
              "        -4.0259e-01, -4.2008e-01, -4.3772e-01, -4.5550e-01, -4.7342e-01,\n",
              "        -4.9150e-01, -5.0972e-01, -5.2809e-01, -5.4661e-01, -5.6528e-01,\n",
              "        -5.8409e-01, -6.0305e-01, -6.2216e-01, -6.4142e-01, -6.6082e-01,\n",
              "        -6.8037e-01, -7.0007e-01, -7.1992e-01, -7.3992e-01, -7.6006e-01,\n",
              "        -7.8036e-01, -8.0080e-01, -8.2139e-01, -8.4213e-01, -8.6302e-01,\n",
              "        -8.8406e-01, -9.0524e-01, -9.2658e-01, -9.4806e-01, -9.6969e-01,\n",
              "        -9.9147e-01, -1.0134e+00, -1.0355e+00, -1.0577e+00, -1.0801e+00,\n",
              "        -1.1026e+00, -1.1253e+00, -1.1481e+00, -1.1711e+00, -1.1942e+00,\n",
              "        -1.2175e+00, -1.2409e+00, -1.2645e+00, -1.2882e+00, -1.3121e+00,\n",
              "        -1.3362e+00, -1.3603e+00, -1.3847e+00, -1.4091e+00, -1.4338e+00,\n",
              "        -1.4586e+00, -1.4835e+00, -1.5086e+00, -1.5338e+00, -1.5592e+00,\n",
              "        -1.5847e+00, -1.6104e+00, -1.6362e+00, -1.6622e+00, -1.6884e+00,\n",
              "        -1.7147e+00, -1.7411e+00, -1.7677e+00, -1.7944e+00, -1.8213e+00,\n",
              "        -1.8484e+00, -1.8756e+00, -1.9029e+00, -1.9304e+00, -1.9581e+00,\n",
              "        -1.9859e+00, -2.0139e+00, -2.0420e+00, -2.0703e+00, -2.0987e+00,\n",
              "        -2.1272e+00, -2.1560e+00, -2.1848e+00, -2.2139e+00, -2.2431e+00,\n",
              "        -2.2724e+00, -2.3019e+00, -2.3315e+00, -2.3613e+00, -2.3913e+00,\n",
              "        -2.4214e+00, -2.4516e+00, -2.4820e+00, -2.5126e+00, -2.5433e+00,\n",
              "        -2.5742e+00, -2.6052e+00, -2.6364e+00, -2.6677e+00, -2.6992e+00,\n",
              "        -2.7308e+00, -2.7626e+00, -2.7945e+00, -2.8266e+00, -2.8589e+00,\n",
              "        -2.8913e+00, -2.9239e+00, -2.9566e+00, -2.9895e+00, -3.0225e+00,\n",
              "        -3.0557e+00, -3.0890e+00, -3.1225e+00, -3.1561e+00, -3.1899e+00,\n",
              "        -3.2239e+00, -3.2580e+00, -3.2923e+00, -3.3267e+00, -3.3613e+00,\n",
              "        -3.3960e+00, -3.4309e+00, -3.4659e+00, -3.5011e+00, -3.5365e+00,\n",
              "        -3.5720e+00, -3.6077e+00, -3.6435e+00, -3.6795e+00, -3.7156e+00,\n",
              "        -3.7519e+00, -3.7884e+00, -3.8250e+00, -3.8617e+00, -3.8986e+00,\n",
              "        -3.9357e+00, -3.9729e+00, -4.0103e+00, -4.0479e+00, -4.0856e+00,\n",
              "        -4.1234e+00, -4.1615e+00, -4.1996e+00, -4.2380e+00, -4.2764e+00,\n",
              "        -4.3151e+00, -4.3539e+00, -4.3928e+00, -4.4320e+00, -4.4712e+00,\n",
              "        -4.5107e+00, -4.5503e+00, -4.5900e+00, -4.6299e+00, -4.6700e+00,\n",
              "        -4.7102e+00, -4.7506e+00, -4.7911e+00, -4.8318e+00, -4.8727e+00,\n",
              "        -4.9137e+00, -4.9549e+00, -4.9962e+00, -5.0377e+00, -5.0793e+00,\n",
              "        -5.1211e+00, -5.1631e+00, -5.2052e+00, -5.2475e+00, -5.2900e+00,\n",
              "        -5.3326e+00, -5.3753e+00, -5.4182e+00, -5.4613e+00, -5.5046e+00,\n",
              "        -5.5480e+00, -5.5915e+00, -5.6352e+00, -5.6791e+00, -5.7232e+00,\n",
              "        -5.7674e+00, -5.8117e+00, -5.8562e+00, -5.9009e+00, -5.9458e+00,\n",
              "        -5.9908e+00, -6.0359e+00, -6.0812e+00, -6.1267e+00, -6.1724e+00,\n",
              "        -6.2182e+00, -6.2641e+00, -6.3103e+00, -6.3566e+00, -6.4030e+00,\n",
              "        -6.4496e+00, -6.4964e+00, -6.5433e+00, -6.5904e+00, -6.6377e+00,\n",
              "        -6.6851e+00, -6.7326e+00, -6.7804e+00, -6.8283e+00, -6.8763e+00,\n",
              "        -6.9246e+00, -6.9729e+00, -7.0215e+00, -7.0702e+00, -7.1191e+00,\n",
              "        -7.1681e+00, -7.2173e+00, -7.2667e+00, -7.3162e+00, -7.3659e+00,\n",
              "        -7.4157e+00, -7.4657e+00, -7.5159e+00, -7.5662e+00, -7.6167e+00,\n",
              "        -7.6674e+00, -7.7182e+00, -7.7692e+00, -7.8203e+00, -7.8717e+00,\n",
              "        -7.9231e+00, -7.9748e+00, -8.0266e+00, -8.0785e+00, -8.1307e+00,\n",
              "        -8.1830e+00, -8.2354e+00, -8.2880e+00, -8.3408e+00, -8.3938e+00,\n",
              "        -8.4469e+00, -8.5002e+00, -8.5536e+00, -8.6072e+00, -8.6610e+00,\n",
              "        -8.7149e+00, -8.7690e+00, -8.8233e+00, -8.8777e+00, -8.9323e+00,\n",
              "        -8.9871e+00, -9.0420e+00, -9.0971e+00, -9.1523e+00, -9.2077e+00,\n",
              "        -9.2633e+00, -9.3191e+00, -9.3750e+00, -9.4311e+00, -9.4873e+00,\n",
              "        -9.5437e+00, -9.6003e+00, -9.6570e+00, -9.7139e+00, -9.7710e+00,\n",
              "        -9.8283e+00, -9.8857e+00, -9.9432e+00, -1.0001e+01, -1.0059e+01,\n",
              "        -1.0117e+01, -1.0175e+01, -1.0234e+01, -1.0292e+01, -1.0351e+01,\n",
              "        -1.0410e+01, -1.0469e+01, -1.0528e+01, -1.0588e+01, -1.0647e+01,\n",
              "        -1.0707e+01, -1.0767e+01, -1.0827e+01, -1.0887e+01, -1.0947e+01,\n",
              "        -1.1008e+01, -1.1069e+01, -1.1130e+01, -1.1191e+01, -1.1252e+01,\n",
              "        -1.1313e+01, -1.1375e+01, -1.1437e+01, -1.1499e+01, -1.1561e+01,\n",
              "        -1.1623e+01, -1.1685e+01, -1.1748e+01, -1.1811e+01, -1.1874e+01,\n",
              "        -1.1937e+01, -1.2000e+01, -1.2063e+01, -1.2127e+01, -1.2191e+01,\n",
              "        -1.2255e+01, -1.2319e+01, -1.2383e+01, -1.2448e+01, -1.2512e+01,\n",
              "        -1.2577e+01, -1.2642e+01, -1.2707e+01, -1.2772e+01, -1.2838e+01,\n",
              "        -1.2903e+01, -1.2969e+01, -1.3035e+01, -1.3101e+01, -1.3168e+01,\n",
              "        -1.3234e+01, -1.3301e+01, -1.3368e+01, -1.3435e+01, -1.3502e+01,\n",
              "        -1.3569e+01, -1.3637e+01, -1.3704e+01, -1.3772e+01, -1.3840e+01,\n",
              "        -1.3908e+01, -1.3977e+01, -1.4045e+01, -1.4114e+01, -1.4183e+01,\n",
              "        -1.4252e+01, -1.4321e+01, -1.4390e+01, -1.4460e+01, -1.4530e+01,\n",
              "        -1.4600e+01, -1.4670e+01, -1.4740e+01, -1.4810e+01, -1.4881e+01,\n",
              "        -1.4952e+01, -1.5023e+01, -1.5094e+01, -1.5165e+01, -1.5236e+01,\n",
              "        -1.5308e+01, -1.5380e+01, -1.5452e+01, -1.5524e+01, -1.5596e+01,\n",
              "        -1.5669e+01, -1.5741e+01, -1.5814e+01, -1.5887e+01, -1.5960e+01,\n",
              "        -1.6034e+01, -1.6107e+01, -1.6181e+01, -1.6255e+01, -1.6329e+01,\n",
              "        -1.6403e+01, -1.6477e+01, -1.6552e+01, -1.6627e+01, -1.6702e+01,\n",
              "        -1.6777e+01, -1.6852e+01, -1.6927e+01, -1.7003e+01, -1.7079e+01,\n",
              "        -1.7155e+01, -1.7231e+01, -1.7307e+01, -1.7384e+01, -1.7460e+01,\n",
              "        -1.7537e+01, -1.7614e+01, -1.7691e+01, -1.7769e+01, -1.7846e+01,\n",
              "        -1.7924e+01, -1.8002e+01, -1.8080e+01, -1.8158e+01, -1.8236e+01,\n",
              "        -1.8315e+01, -1.8394e+01, -1.8473e+01, -1.8552e+01, -1.8631e+01,\n",
              "        -1.8710e+01, -1.8790e+01, -1.8870e+01, -1.8950e+01, -1.9030e+01,\n",
              "        -1.9110e+01, -1.9191e+01, -1.9271e+01, -1.9352e+01, -1.9433e+01,\n",
              "        -1.9515e+01, -1.9596e+01, -1.9677e+01, -1.9759e+01, -1.9841e+01,\n",
              "        -1.9923e+01, -2.0006e+01, -2.0088e+01, -2.0171e+01, -2.0253e+01,\n",
              "        -2.0336e+01, -2.0420e+01, -2.0503e+01, -2.0586e+01, -2.0670e+01,\n",
              "        -2.0754e+01, -2.0838e+01, -2.0922e+01, -2.1007e+01, -2.1091e+01,\n",
              "        -2.1176e+01, -2.1261e+01, -2.1346e+01, -2.1431e+01, -2.1517e+01,\n",
              "        -2.1602e+01, -2.1688e+01, -2.1774e+01, -2.1860e+01, -2.1947e+01,\n",
              "        -2.2033e+01, -2.2120e+01, -2.2207e+01, -2.2294e+01, -2.2381e+01,\n",
              "        -2.2469e+01, -2.2556e+01, -2.2644e+01, -2.2732e+01, -2.2820e+01,\n",
              "        -2.2908e+01, -2.2997e+01, -2.3086e+01, -2.3174e+01, -2.3264e+01,\n",
              "        -2.3353e+01, -2.3442e+01, -2.3532e+01, -2.3621e+01, -2.3711e+01,\n",
              "        -2.3802e+01, -2.3892e+01, -2.3982e+01, -2.4073e+01, -2.4164e+01,\n",
              "        -2.4255e+01, -2.4346e+01, -2.4437e+01, -2.4529e+01, -2.4621e+01,\n",
              "        -2.4713e+01, -2.4805e+01, -2.4897e+01, -2.4990e+01, -2.5082e+01,\n",
              "        -2.5175e+01, -2.5268e+01, -2.5361e+01, -2.5455e+01, -2.5548e+01,\n",
              "        -2.5642e+01, -2.5736e+01, -2.5830e+01, -2.5924e+01, -2.6019e+01,\n",
              "        -2.6113e+01, -2.6208e+01, -2.6303e+01, -2.6398e+01, -2.6494e+01,\n",
              "        -2.6589e+01, -2.6685e+01, -2.6781e+01, -2.6877e+01, -2.6973e+01,\n",
              "        -2.7070e+01, -2.7167e+01, -2.7263e+01, -2.7360e+01, -2.7458e+01,\n",
              "        -2.7555e+01, -2.7653e+01, -2.7750e+01, -2.7848e+01, -2.7946e+01,\n",
              "        -2.8045e+01, -2.8143e+01, -2.8242e+01, -2.8341e+01, -2.8440e+01,\n",
              "        -2.8539e+01, -2.8638e+01, -2.8738e+01, -2.8838e+01, -2.8938e+01,\n",
              "        -2.9038e+01, -2.9138e+01, -2.9239e+01, -2.9339e+01, -2.9440e+01,\n",
              "        -2.9541e+01, -2.9643e+01, -2.9744e+01, -2.9846e+01, -2.9948e+01,\n",
              "        -3.0050e+01, -3.0152e+01, -3.0254e+01, -3.0357e+01, -3.0459e+01,\n",
              "        -3.0562e+01, -3.0665e+01, -3.0769e+01, -3.0872e+01, -3.0976e+01,\n",
              "        -3.1080e+01, -3.1184e+01, -3.1288e+01, -3.1392e+01, -3.1497e+01,\n",
              "        -3.1602e+01, -3.1707e+01, -3.1812e+01, -3.1917e+01, -3.2023e+01,\n",
              "        -3.2128e+01, -3.2234e+01, -3.2340e+01, -3.2447e+01, -3.2553e+01,\n",
              "        -3.2660e+01, -3.2767e+01, -3.2874e+01, -3.2981e+01, -3.3088e+01,\n",
              "        -3.3196e+01, -3.3303e+01, -3.3411e+01, -3.3520e+01, -3.3628e+01,\n",
              "        -3.3736e+01, -3.3845e+01, -3.3954e+01, -3.4063e+01, -3.4172e+01,\n",
              "        -3.4282e+01, -3.4391e+01, -3.4501e+01, -3.4611e+01, -3.4721e+01,\n",
              "        -3.4832e+01, -3.4942e+01, -3.5053e+01, -3.5164e+01, -3.5275e+01,\n",
              "        -3.5387e+01, -3.5498e+01, -3.5610e+01, -3.5722e+01, -3.5834e+01,\n",
              "        -3.5946e+01, -3.6059e+01, -3.6171e+01, -3.6284e+01, -3.6397e+01,\n",
              "        -3.6510e+01, -3.6624e+01, -3.6737e+01, -3.6851e+01, -3.6965e+01,\n",
              "        -3.7079e+01, -3.7194e+01, -3.7308e+01, -3.7423e+01, -3.7538e+01,\n",
              "        -3.7653e+01, -3.7768e+01, -3.7884e+01, -3.8000e+01, -3.8116e+01,\n",
              "        -3.8232e+01, -3.8348e+01, -3.8464e+01, -3.8581e+01, -3.8698e+01,\n",
              "        -3.8815e+01, -3.8932e+01, -3.9050e+01, -3.9167e+01, -3.9285e+01,\n",
              "        -3.9403e+01, -3.9521e+01, -3.9639e+01, -3.9758e+01, -3.9877e+01,\n",
              "        -3.9996e+01, -4.0115e+01, -4.0234e+01, -4.0354e+01, -4.0473e+01,\n",
              "        -4.0593e+01, -4.0713e+01, -4.0834e+01, -4.0954e+01, -4.1075e+01,\n",
              "        -4.1196e+01, -4.1317e+01, -4.1438e+01, -4.1560e+01, -4.1681e+01,\n",
              "        -4.1803e+01, -4.1925e+01, -4.2047e+01, -4.2170e+01, -4.2292e+01,\n",
              "        -4.2415e+01, -4.2538e+01, -4.2661e+01, -4.2785e+01, -4.2908e+01,\n",
              "        -4.3032e+01, -4.3156e+01, -4.3280e+01, -4.3404e+01, -4.3529e+01,\n",
              "        -4.3654e+01, -4.3779e+01, -4.3904e+01, -4.4029e+01, -4.4154e+01,\n",
              "        -4.4280e+01, -4.4406e+01, -4.4532e+01, -4.4658e+01, -4.4785e+01,\n",
              "        -4.4912e+01, -4.5039e+01, -4.5166e+01, -4.5293e+01, -4.5420e+01,\n",
              "        -4.5548e+01, -4.5676e+01, -4.5804e+01, -4.5932e+01, -4.6060e+01,\n",
              "        -4.6189e+01, -4.6318e+01, -4.6447e+01, -4.6576e+01, -4.6706e+01,\n",
              "        -4.6835e+01, -4.6965e+01, -4.7095e+01, -4.7225e+01, -4.7356e+01,\n",
              "        -4.7486e+01, -4.7617e+01, -4.7748e+01, -4.7879e+01, -4.8010e+01,\n",
              "        -4.8142e+01, -4.8274e+01, -4.8406e+01, -4.8538e+01, -4.8670e+01,\n",
              "        -4.8803e+01, -4.8936e+01, -4.9068e+01, -4.9202e+01, -4.9335e+01,\n",
              "        -4.9469e+01, -4.9602e+01, -4.9736e+01, -4.9870e+01, -5.0005e+01,\n",
              "        -5.0139e+01, -5.0274e+01, -5.0409e+01, -5.0544e+01, -5.0679e+01,\n",
              "        -5.0815e+01, -5.0950e+01, -5.1086e+01, -5.1222e+01, -5.1359e+01,\n",
              "        -5.1495e+01, -5.1632e+01, -5.1769e+01, -5.1906e+01, -5.2043e+01,\n",
              "        -5.2181e+01, -5.2318e+01, -5.2456e+01, -5.2594e+01, -5.2733e+01,\n",
              "        -5.2871e+01, -5.3010e+01, -5.3149e+01, -5.3288e+01, -5.3427e+01,\n",
              "        -5.3567e+01, -5.3706e+01, -5.3846e+01, -5.3986e+01, -5.4127e+01,\n",
              "        -5.4267e+01, -5.4408e+01, -5.4549e+01, -5.4690e+01, -5.4831e+01,\n",
              "        -5.4973e+01, -5.5114e+01, -5.5256e+01, -5.5398e+01, -5.5541e+01,\n",
              "        -5.5683e+01, -5.5826e+01, -5.5969e+01, -5.6112e+01, -5.6255e+01,\n",
              "        -5.6399e+01, -5.6542e+01, -5.6686e+01, -5.6830e+01, -5.6975e+01,\n",
              "        -5.7119e+01, -5.7264e+01, -5.7409e+01, -5.7554e+01, -5.7699e+01,\n",
              "        -5.7845e+01, -5.7990e+01, -5.8136e+01, -5.8282e+01, -5.8429e+01,\n",
              "        -5.8575e+01, -5.8722e+01, -5.8869e+01, -5.9016e+01, -5.9163e+01,\n",
              "        -5.9311e+01, -5.9459e+01, -5.9606e+01, -5.9755e+01, -5.9903e+01,\n",
              "        -6.0051e+01, -6.0200e+01, -6.0349e+01, -6.0498e+01, -6.0648e+01,\n",
              "        -6.0797e+01, -6.0947e+01, -6.1097e+01, -6.1247e+01, -6.1398e+01,\n",
              "        -6.1548e+01, -6.1699e+01, -6.1850e+01, -6.2001e+01, -6.2152e+01,\n",
              "        -6.2304e+01, -6.2456e+01, -6.2608e+01, -6.2760e+01, -6.2913e+01,\n",
              "        -6.3065e+01, -6.3218e+01, -6.3371e+01, -6.3524e+01, -6.3678e+01,\n",
              "        -6.3831e+01, -6.3985e+01, -6.4139e+01, -6.4293e+01, -6.4448e+01,\n",
              "        -6.4603e+01, -6.4757e+01, -6.4913e+01, -6.5068e+01, -6.5223e+01,\n",
              "        -6.5379e+01, -6.5535e+01, -6.5691e+01, -6.5847e+01, -6.6004e+01,\n",
              "        -6.6161e+01, -6.6318e+01, -6.6475e+01, -6.6632e+01, -6.6790e+01,\n",
              "        -6.6947e+01, -6.7105e+01, -6.7263e+01, -6.7422e+01, -6.7580e+01,\n",
              "        -6.7739e+01, -6.7898e+01, -6.8057e+01, -6.8217e+01, -6.8376e+01,\n",
              "        -6.8536e+01, -6.8696e+01, -6.8856e+01, -6.9017e+01, -6.9178e+01,\n",
              "        -6.9338e+01, -6.9499e+01, -6.9661e+01, -6.9822e+01, -6.9984e+01,\n",
              "        -7.0146e+01, -7.0308e+01, -7.0470e+01, -7.0633e+01, -7.0795e+01,\n",
              "        -7.0958e+01, -7.1122e+01, -7.1285e+01, -7.1448e+01, -7.1612e+01,\n",
              "        -7.1776e+01, -7.1940e+01, -7.2105e+01, -7.2269e+01, -7.2434e+01,\n",
              "        -7.2599e+01, -7.2764e+01, -7.2930e+01, -7.3096e+01, -7.3261e+01,\n",
              "        -7.3427e+01, -7.3594e+01, -7.3760e+01, -7.3927e+01, -7.4094e+01,\n",
              "        -7.4261e+01, -7.4428e+01, -7.4596e+01, -7.4763e+01, -7.4931e+01,\n",
              "        -7.5100e+01, -7.5268e+01, -7.5437e+01, -7.5605e+01, -7.5774e+01,\n",
              "        -7.5944e+01, -7.6113e+01, -7.6283e+01, -7.6452e+01, -7.6623e+01,\n",
              "        -7.6793e+01, -7.6963e+01, -7.7134e+01, -7.7305e+01, -7.7476e+01,\n",
              "        -7.7647e+01, -7.7819e+01, -7.7991e+01, -7.8163e+01, -7.8335e+01,\n",
              "        -7.8507e+01, -7.8680e+01, -7.8852e+01, -7.9025e+01, -7.9199e+01,\n",
              "        -7.9372e+01, -7.9546e+01, -7.9720e+01, -7.9894e+01, -8.0068e+01])"
            ]
          },
          "metadata": {},
          "execution_count": 48
        }
      ]
    },
    {
      "cell_type": "code",
      "source": [
        "plt.plot(x,y, 'b', label='y true ')\n",
        "plt.plot(x, y_pred, 'r', label='y prediction')\n",
        "plt.legend()"
      ],
      "metadata": {
        "colab": {
          "base_uri": "https://localhost:8080/",
          "height": 283
        },
        "id": "f9lMZQK0quOm",
        "outputId": "bda6dbff-8e5b-4b59-8ee6-caabf4e35e82"
      },
      "execution_count": 50,
      "outputs": [
        {
          "output_type": "execute_result",
          "data": {
            "text/plain": [
              "<matplotlib.legend.Legend at 0x7f366ebd3d30>"
            ]
          },
          "metadata": {},
          "execution_count": 50
        },
        {
          "output_type": "display_data",
          "data": {
            "text/plain": [
              "<Figure size 432x288 with 1 Axes>"
            ],
            "image/png": "[encoded data removed]"
          },
          "metadata": {
            "needs_background": "light"
          }
        }
      ]
    },
    {
      "cell_type": "code",
      "source": [],
      "metadata": {
        "id": "MAhC5B-8sXMn"
      },
      "execution_count": null,
      "outputs": []
    }
  ]
}